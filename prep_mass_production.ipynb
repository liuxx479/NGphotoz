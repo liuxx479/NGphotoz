{
 "cells": [
  {
   "cell_type": "markdown",
   "metadata": {
    "colab_type": "text",
    "id": "view-in-github"
   },
   "source": [
    "<a href=\"https://colab.research.google.com/github/liuxx479/NGphotoz/blob/master/prep_mass_production.ipynb\" target=\"_parent\"><img src=\"https://colab.research.google.com/assets/colab-badge.svg\" alt=\"Open In Colab\"/></a>"
   ]
  },
  {
   "cell_type": "code",
   "execution_count": 2,
   "metadata": {
    "id": "Ak9qWKy8pIbN"
   },
   "outputs": [],
   "source": [
    "import numpy as np\n",
    "from matplotlib import pyplot as plt\n",
    "from pylab import *\n",
    "from scipy.stats import norm\n",
    "from scipy.stats import uniform\n",
    "%matplotlib inline"
   ]
  },
  {
   "cell_type": "code",
   "execution_count": 3,
   "metadata": {
    "id": "OLKpb6dHpOLY"
   },
   "outputs": [],
   "source": [
    "######### goals of this notebook\n",
    "## 1) compute the nubmer density per redshift bin, using the fiducial photo-z (check if used a gaussian window or step functions)\n",
    "## 2) add noise as GRF to each redshift\n",
    "## 3) define the bin edges\n",
    "## 4) smooth the maps\n",
    "## 5) compute peaks, minima, PDF, MFs, moments\n",
    "## 6) turn this into a python code"
   ]
  },
  {
   "cell_type": "code",
   "execution_count": 13,
   "metadata": {
    "colab": {
     "base_uri": "https://localhost:8080/",
     "height": 279
    },
    "id": "pF66fYtqp7ar",
    "outputId": "a28c8a3d-c47f-4d0e-9f78-4d50a8f09af2"
   },
   "outputs": [
    {
     "data": {
      "image/png": "[encoded data removed]",
      "text/plain": [
       "<Figure size 432x288 with 1 Axes>"
      ]
     },
     "metadata": {
      "needs_background": "light"
     },
     "output_type": "display_data"
    }
   ],
   "source": [
    "##### number density per redshift bins\n",
    "def Pz_norm(zp_support, pz):\n",
    "  return pz/np.trapz(pz, zp_support)\n",
    "\n",
    "def Pz_norm_tomo(zp_support, pz):\n",
    "  return array([Pz_norm(zp_support, ipz) for ipz in pz])\n",
    "\n",
    "zarr=np.linspace(0,4, 501)\n",
    "delta_z=0.5\n",
    "\n",
    "tomo_centers=np.arange(0.5, 3, delta_z)\n",
    "tomo_widths=np.ones(5)*delta_z\n",
    "tomo_edges = np.array([tomo_centers-delta_z/2, tomo_centers+delta_z/2]).T\n",
    "\n",
    "z0_SRD, alpha_SRD = 0.11, 0.68\n",
    "Pz_SRD_unnorm = lambda z: z**2 * exp(-(z/z0_SRD)**alpha_SRD)\n",
    "Pz_SRD_norm = lambda z: Pz_norm(z, Pz_SRD_unnorm(z))\n",
    "\n",
    "plot(zarr, Pz_SRD_norm(zarr), lw=2, label='LSST gold (SRD2018 Y10 p53)')\n",
    "xlabel('z')\n",
    "ylabel('Pz')\n",
    "legend()\n",
    "show()"
   ]
  },
  {
   "cell_type": "code",
   "execution_count": 29,
   "metadata": {
    "id": "no8Frqmiqh83"
   },
   "outputs": [],
   "source": [
    "############ fiducial model: pz_true.txt (edited) \n",
    "### zbias=0, sigma_z=0, outlier=0; it should have sharp cut off at the bin edges ([0.25, 0.75], [0.75, 1.25]...)\n",
    "####### LSST SRD Y10 numbers page 53\n",
    "######## SRD: https://arxiv.org/abs/1809.01669\n",
    "## neff: (z0, α) = (0.13, 0.78) for Y1 and (0.11, 0.68) for Y10\n",
    "## neff = 10 and 27 arcmin−2 as the lensing neff in Y1 and Y10\n",
    "## however, according to the original Chang 2013 paper, unmasked neff=37\n",
    "sigma_e = 0.26 ## per component\n",
    "neff = 37 ## chang+2013 n=46, for fiducial case\n",
    "ngal = 46"
   ]
  },
  {
   "cell_type": "code",
   "execution_count": 30,
   "metadata": {},
   "outputs": [
    {
     "name": "stdout",
     "output_type": "stream",
     "text": [
      "0.020049679068572506\n"
     ]
    }
   ],
   "source": [
    "ngal_tomo = np.zeros(5)\n",
    "Pz_norm_factor = np.trapz(Pz_SRD_unnorm(zarr),zarr)\n",
    "print (Pz_norm_factor)\n",
    "\n",
    "for i in range(5):\n",
    "    iz0,iz1=tomo_edges[i]\n",
    "    izarr=zarr[where((zarr>iz0)&(zarr<iz1))]\n",
    "    ngal_tomo[i]= ngal * np.trapz(Pz_SRD_unnorm(izarr), izarr) / Pz_norm_factor"
   ]
  },
  {
   "cell_type": "code",
   "execution_count": 45,
   "metadata": {},
   "outputs": [
    {
     "name": "stdout",
     "output_type": "stream",
     "text": [
      "number of galaxies per redshift bin \n",
      "(ngal=46, 40.99631314209885 galaxies in 5 bins):\n",
      "z=[0.25 0.75], ngal=16.07\n",
      "z=[0.75 1.25], ngal=12.82\n",
      "z=[1.25 1.75], ngal=6.93\n",
      "z=[1.75 2.25], ngal=3.51\n",
      "z=[2.25 2.75], ngal=1.66\n"
     ]
    }
   ],
   "source": [
    "print ('number of galaxies per redshift bin \\n(ngal=%i, %s galaxies in 5 bins):'%(ngal, sum(ngal_tomo)))\n",
    "for i in range(5):\n",
    "    print ('z=%s, ngal=%.2f'%(tomo_edges[i], ngal_tomo[i]))"
   ]
  },
  {
   "cell_type": "code",
   "execution_count": 32,
   "metadata": {},
   "outputs": [
    {
     "name": "stdout",
     "output_type": "stream",
     "text": [
      "[master 1fca764] update prep_mass_production.ipynb; add ngal calculation\n",
      " 1 file changed, 193 insertions(+)\n",
      " create mode 100644 prep_mass_production.ipynb\n",
      "Counting objects: 3, done.\n",
      "Delta compression using up to 64 threads.\n",
      "Compressing objects: 100% (3/3), done.\n",
      "Writing objects: 100% (3/3), 16.52 KiB | 8.26 MiB/s, done.\n",
      "Total 3 (delta 1), reused 0 (delta 0)\n",
      "remote: Resolving deltas: 100% (1/1), completed with 1 local object.\u001b[K\n",
      "To ssh://github.com/liuxx479/NGphotoz.git\n",
      "   dfb8f43..1fca764  master -> master\n"
     ]
    }
   ],
   "source": [
    "!git add prep_mass_production.ipynb; \n",
    "!git commit -m 'update prep_mass_production.ipynb; add ngal calculation'\n",
    "!git push"
   ]
  },
  {
   "cell_type": "code",
   "execution_count": null,
   "metadata": {},
   "outputs": [],
   "source": []
  }
 ],
 "metadata": {
  "colab": {
   "authorship_tag": "ABX9TyNuJXqQkIDgS6/7DFuJ6bLq",
   "include_colab_link": true,
   "name": "prep_mass_production.ipynb",
   "provenance": []
  },
  "kernelspec": {
   "display_name": "Python 3",
   "language": "python",
   "name": "python3"
  },
  "language_info": {
   "codemirror_mode": {
    "name": "ipython",
    "version": 3
   },
   "file_extension": ".py",
   "mimetype": "text/x-python",
   "name": "python",
   "nbconvert_exporter": "python",
   "pygments_lexer": "ipython3",
   "version": "3.7.4"
  }
 },
 "nbformat": 4,
 "nbformat_minor": 4
}
