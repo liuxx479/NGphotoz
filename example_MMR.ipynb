{
  "nbformat": 4,
  "nbformat_minor": 0,
  "metadata": {
    "kernelspec": {
      "display_name": "3point6",
      "language": "python",
      "name": "3point6"
    },
    "language_info": {
      "codemirror_mode": {
        "name": "ipython",
        "version": 3
      },
      "file_extension": ".py",
      "mimetype": "text/x-python",
      "name": "python",
      "nbconvert_exporter": "python",
      "pygments_lexer": "ipython3",
      "version": "3.6.2"
    },
    "colab": {
      "name": "example_MMR.ipynb",
      "provenance": [],
      "include_colab_link": true
    }
  },
  "cells": [
    {
      "cell_type": "markdown",
      "metadata": {
        "id": "view-in-github",
        "colab_type": "text"
      },
      "source": [
        "<a href=\"https://colab.research.google.com/github/liuxx479/NGphotoz/blob/master/example_MMR.ipynb\" target=\"_parent\"><img src=\"https://colab.research.google.com/assets/colab-badge.svg\" alt=\"Open In Colab\"/></a>"
      ]
    },
    {
      "cell_type": "code",
      "metadata": {
        "id": "r5TYEjZ-Hr3_",
        "colab_type": "code",
        "colab": {}
      },
      "source": [
        "import numpy as np\n",
        "from matplotlib import pyplot as plt\n",
        "from pylab import *\n",
        "from scipy.stats import norm\n",
        "from copy import deepcopy\n",
        "\n",
        "%matplotlib inline\n",
        "# %load_ext autoreload\n",
        "# %autoreload 2\n",
        "\n",
        "class PhotoZ_core(object):\n",
        "    \"\"\"Defines p(zp | z) of the core distribution (i.e. no outliers)\n",
        "    \"\"\"\n",
        "\n",
        "    def __init__(self, zp_support, zbias, sigma_z):\n",
        "        self.zp_support = zp_support\n",
        "        self.zbias = zbias\n",
        "        self.sigma_z = sigma_z\n",
        "\n",
        "    def get_pdf_given(self, z):\n",
        "        assert np.isscalar(z)\n",
        "        rv = norm()\n",
        "        scale = self.sigma_z * (1. + z)\n",
        "        loc = z - self.zbias\n",
        "        return rv.pdf((self.zp_support - loc) / scale) / scale\n",
        "\n",
        "\n",
        "class PhotoZ_outlier(object):\n",
        "    \"\"\" Define a gaussian distributed\n",
        "    outlier population\n",
        "\n",
        "    \"\"\"\n",
        "    def __init__(self, zp_support, z_cat, sigma_cat):\n",
        "        self.z_cat = z_cat\n",
        "        self.sigma_cat = sigma_cat\n",
        "        self.zp_support = zp_support\n",
        "\n",
        "    def get_pdf_given(self, z):\n",
        "        assert np.isscalar(z)\n",
        "        rv = norm()\n",
        "        return rv.pdf((self.zp_support - self.z_cat) / self.sigma_cat) / self.sigma_cat\n",
        "\n",
        "\n",
        "class PhotoZ_outlier_position(object):\n",
        "    \"\"\" Define the position and fraction of\n",
        "    the outlier populations for both the\n",
        "    Lyman-Alpha and Balmer Breaks\n",
        "    \"\"\"\n",
        "    def __init__(self, F_cat, delta_z_cat, z_cat_position):\n",
        "        assert np.isscalar(F_cat)\n",
        "        self.delta_z_cat = delta_z_cat\n",
        "        self.z_cat_position = z_cat_position\n",
        "        self.F_cat = F_cat\n",
        "\n",
        "    def get_weight_given(self, z):\n",
        "        assert np.isscalar(z)\n",
        "        if (z > self.z_cat_position - self.delta_z_cat) and (z < self.z_cat_position + self.delta_z_cat):\n",
        "            return self.F_cat\n",
        "        else:\n",
        "            return 0.\n",
        "\n",
        "\n",
        "class LymanBalmerConfusion(object):\n",
        "    \"\"\" We fix here the position of the\n",
        "        Lyman-Balmer Confusion (maybe we need to adjust this)\n",
        "        But this should be ok for now\n",
        "    \"\"\"\n",
        "    def __init__(self, zp_support):\n",
        "        self.outlier_pdf = PhotoZ_outlier(zp_support, z_cat=3.75, sigma_cat=0.25)\n",
        "\n",
        "    def get_pdf_given(self, z):\n",
        "        # Note this pdf is normalized to F_cat or zero!!!\n",
        "        assert np.isscalar(z)\n",
        "        outlier_pdf = self.outlier_pdf.get_pdf_given(z)\n",
        "        return outlier_pdf\n",
        "\n",
        "\n",
        "class LymanAlphaBalmerConfusion(object):\n",
        "    \"\"\" We fix here the position of the\n",
        "        LymanAlpha - Balmer Confusion (maybe we need to adjust this)\n",
        "    \"\"\"\n",
        "    def __init__(self, zp_support):\n",
        "        self.outlier_pdf = PhotoZ_outlier(zp_support, z_cat=0.5, sigma_cat=0.25)\n",
        "\n",
        "    def get_pdf_given(self, z):\n",
        "        # Note this pdf is normalized to F_cat or zero!!!\n",
        "        assert np.isscalar(z)\n",
        "        outlier_pdf = self.outlier_pdf.get_pdf_given(z)\n",
        "        return outlier_pdf\n",
        "\n",
        "\n",
        "class CoreAndOutlier(object):\n",
        "    \"\"\"\n",
        "    Defines the core and outlier population\n",
        "\n",
        "    \"\"\"\n",
        "    def __init__(self, zp_support, zbias, sigma_z, F_cat_lyman_balmer, F_cat_lyman_alpha_balmer):\n",
        "        if sigma_z < 0.01:\n",
        "            raise ValueError(\"Choosing a `close to delta' function as the conditional leads to numerical problems on a fixed grid!\")\n",
        "        self.zp_support = zp_support\n",
        "        self.core = PhotoZ_core(zp_support, zbias, sigma_z)\n",
        "\n",
        "        self.pos_lyman_balmer = PhotoZ_outlier_position(F_cat_lyman_balmer,\n",
        "                                                        delta_z_cat=0.25, z_cat_position=0.25)\n",
        "        self.lyman_balmer = LymanBalmerConfusion(zp_support)\n",
        "\n",
        "        self.pos_lyman_alpha_balmer = PhotoZ_outlier_position(F_cat_lyman_alpha_balmer,\n",
        "                                                              delta_z_cat=0.25, z_cat_position=3.)\n",
        "        self.lyman_alpha_balmer = LymanAlphaBalmerConfusion(zp_support)\n",
        "\n",
        "    def get_pdf_given(self, z):\n",
        "        assert np.isscalar(z)\n",
        "        weight_lyman_balmer = self.pos_lyman_balmer.get_weight_given(z)\n",
        "        weight_lyman_alpha_balmer = self.pos_lyman_alpha_balmer.get_weight_given(z)\n",
        "        weight_core = 1.0 - weight_lyman_balmer - weight_lyman_alpha_balmer\n",
        "        # print(weight_core)\n",
        "        core_pdf = self.core.get_pdf_given(z)\n",
        "        core_pdf = core_pdf / np.trapz(core_pdf, self.zp_support)\n",
        "\n",
        "        lyman_balmer_outliers = self.lyman_balmer.get_pdf_given(z)\n",
        "        lyman_balmer_outliers = lyman_balmer_outliers / np.trapz(lyman_balmer_outliers, self.zp_support)\n",
        "\n",
        "        lyman_alpha_balmer_outliers = self.lyman_alpha_balmer.get_pdf_given(z)\n",
        "        lyman_alpha_balmer_outliers = lyman_alpha_balmer_outliers / np.trapz(lyman_alpha_balmer_outliers,\n",
        "                                                                             self.zp_support)\n",
        "\n",
        "        cond_pdf = weight_core * core_pdf + weight_lyman_balmer * lyman_balmer_outliers + weight_lyman_alpha_balmer * lyman_alpha_balmer_outliers\n",
        "        return cond_pdf\n",
        "\n",
        "\n",
        "class SmailZ(object):\n",
        "    \"\"\" Define the True photometric redshift distribution\n",
        "    that follows a Smail Type distribution\n",
        "    \"\"\"\n",
        "    def __init__(self, z_support, z0, gamma, alpha):\n",
        "        pdf = z_support ** alpha * np.exp(-(z_support / z0) ** (gamma))\n",
        "        self.z_support = z_support\n",
        "        self.pdf = pdf / np.trapz(pdf, z_support)\n",
        "\n",
        "    def get_pdf(self):\n",
        "        return self.pdf\n",
        "\n",
        "    def get_pdf_convoled(self, filter_list):\n",
        "        output_tomo_list = []\n",
        "        for el in filter_list:\n",
        "            output_tomo_list.append(el * self.pdf)\n",
        "        output_tomo_list = np.array(output_tomo_list).T\n",
        "        output_tomo_list = np.column_stack((self.z_support, output_tomo_list))\n",
        "        return output_tomo_list\n",
        "\n",
        "\n",
        "class PhotozModel(object):\n",
        "    \"\"\"Convolve the joint distribution p(z_s, z_p) with\n",
        "    a set of filter functions (e.g. gaussian or tophat)\n",
        "\n",
        "    The class function get_pdf produces an array of tomographic\n",
        "    bins\n",
        "\n",
        "    \"\"\"\n",
        "    def __init__(self, pdf_z, pdf_zphot_given_z, filters):\n",
        "        self.pdf_zphot_given_z = pdf_zphot_given_z\n",
        "        self.pdf_z = pdf_z\n",
        "        self.filter_list = filters\n",
        "\n",
        "    def normalize(self, pz):\n",
        "        for i in range(pz.shape[1]):\n",
        "            pz[:, i] = pz[:, i]/np.trapz(pz[:, i], self.pdf_zphot_given_z.zp_support)\n",
        "\n",
        "        return pz\n",
        "\n",
        "    def get_pdf(self):\n",
        "        tomo_collect = []\n",
        "        for el in self.filter_list:\n",
        "            tomo_pdf = self.get_pdf_tomo(el)\n",
        "\n",
        "            tomo_collect.append(tomo_pdf)\n",
        "\n",
        "        tomo_collect = np.array(tomo_collect).T\n",
        "        tomo_collect = self.normalize(tomo_collect)\n",
        "        return tomo_collect\n",
        "\n",
        "    def get_pdf_tomo(self, filter):\n",
        "        z_support = self.pdf_z.z_support\n",
        "        zp_support = self.pdf_zphot_given_z.zp_support\n",
        "        z_pdf = self.pdf_z.get_pdf()\n",
        "        pdf_joint = np.zeros((len(zp_support), len(z_support)))\n",
        "        for i in range(len(z_support)):\n",
        "            pdf_joint[:, i] = self.pdf_zphot_given_z.get_pdf_given(z_support[i]) * z_pdf[i] * filter[i]\n",
        "\n",
        "        pdf_zp = np.zeros((len(zp_support),))\n",
        "        for i in range(len(zp_support)):\n",
        "            pdf_zp[i] = np.trapz(pdf_joint[i, :], z_support)\n",
        "\n",
        "        return pdf_zp\n",
        "\n"
      ],
      "execution_count": 9,
      "outputs": []
    },
    {
      "cell_type": "code",
      "metadata": {
        "id": "8c02gIxHHr4F",
        "colab_type": "code",
        "colab": {}
      },
      "source": [
        "# The idea here is that I fix the position of the outlier population and\n",
        "# leave the fraction of outliers as well as the bias and std of the core\n",
        "# distribution as free parameters. You have the option to convolve this \n",
        "# error fuction with a list of filter functions here gaussian filters of \n",
        "# a certain width. \n",
        "#\n",
        "# from matplotlib import pyplot as plt\n",
        "\n",
        "# zp_support = np.linspace(0.0, 4.0, num=600)\n",
        "# z_support = np.linspace(0.0, 4.0, num=500)\n",
        "\n",
        "# pdf_z = SmailZ(z_support, z0=0.13, gamma=0.78, alpha=1)\n",
        "# coreandoutlier = CoreAndOutlier(zp_support, zbias=0.0, sigma_z=0.01, F_cat_lyman_balmer=0.1,\n",
        "#                                     F_cat_lyman_alpha_balmer=0.1)\n",
        "\n",
        "# tomo_list = [norm.pdf(z_support, loc=0.1, scale=0.1),\n",
        "#              norm.pdf(z_support, loc=0.2, scale=0.1)]\n",
        "\n",
        "# photoz_model = PhotozModel(pdf_z, coreandoutlier, tomo_list)\n",
        "\n",
        "# pdf_zp = photoz_model.get_pdf()\n",
        "\n",
        "# plt.plot(zp_support, pdf_zp[:, 0])\n",
        "# plt.plot(zp_support, pdf_zp[:, 1])\n",
        "# plt.show()\n"
      ],
      "execution_count": 24,
      "outputs": []
    },
    {
      "cell_type": "code",
      "metadata": {
        "id": "vU3frndlHr4I",
        "colab_type": "code",
        "colab": {
          "base_uri": "https://localhost:8080/",
          "height": 298
        },
        "outputId": "72bc7a7a-b964-4702-9395-ba0360d79d3b"
      },
      "source": [
        "######## JL LSST SB Pz\n",
        "Mlim = 25.3 ## gold sample\n",
        "z0 = 0.0417*Mlim-0.744\n",
        "Pz = lambda z: 0.5/z0**3 * z**2 * exp(-z/z0)\n",
        "zarr=np.linspace(0,4, 100)\n",
        "print (z0)\n",
        "plot(zarr, Pz(zarr))\n",
        "title('LSST gold sample Pz')\n",
        "show()"
      ],
      "execution_count": 25,
      "outputs": [
        {
          "output_type": "stream",
          "text": [
            "0.31101\n"
          ],
          "name": "stdout"
        },
        {
          "output_type": "display_data",
          "data": {
            "image/png": "[encoded data removed]",
            "text/plain": [
              "<Figure size 432x288 with 1 Axes>"
            ]
          },
          "metadata": {
            "tags": [],
            "needs_background": "light"
          }
        }
      ]
    },
    {
      "cell_type": "code",
      "metadata": {
        "id": "pb2OKeJhT8yV",
        "colab_type": "code",
        "colab": {}
      },
      "source": [
        "############# try MMR function\n",
        "\n",
        "zp_support = np.linspace(0.0, 4.0, num=600)\n",
        "z_support = np.linspace(0.0, 4.0, num=500)\n",
        "\n",
        "### pdf = z_support ** alpha * np.exp(-(z_support / z0) ** (gamma))\n",
        "### LSST pdf = 1/(2z0)(z/z0)**2 exp(-z/z0), so alpha=2, gamma=1\n",
        "\n",
        "pdf_z = SmailZ(z_support, z0=0.31101, gamma=1, alpha=2)\n",
        "coreandoutlier = CoreAndOutlier(zp_support, zbias=0.0, sigma_z=0.01, \n",
        "                                F_cat_lyman_balmer=0.1,\n",
        "                                F_cat_lyman_alpha_balmer=0.1)\n"
      ],
      "execution_count": 18,
      "outputs": []
    },
    {
      "cell_type": "code",
      "metadata": {
        "id": "DCR-1ZLMCkFf",
        "colab_type": "code",
        "colab": {}
      },
      "source": [
        "tomo_centers=np.arange(0.5, 3, 0.5)\n",
        "tomo_list = [norm.pdf(z_support, loc=x, scale=0.1) for x in tomo_centers]\n",
        "photoz_model = PhotozModel(pdf_z, coreandoutlier, tomo_list)\n",
        "pdf_zp = photoz_model.get_pdf()"
      ],
      "execution_count": 41,
      "outputs": []
    },
    {
      "cell_type": "code",
      "metadata": {
        "id": "vl9RIMwJEXaQ",
        "colab_type": "code",
        "colab": {
          "base_uri": "https://localhost:8080/",
          "height": 391
        },
        "outputId": "d63ac019-bdd9-490e-e05b-01a361db3467"
      },
      "source": [
        "figure(figsize=(8,6))\n",
        "plot(z_support, Pz(z_support),'--',label='LSST gold sample')\n",
        "plot(z_support, pdf_z.get_pdf(),'--', label='MMR SmailZ code')\n",
        "for i in range(5):\n",
        "  plot(zp_support, pdf_zp[:, i],label='z_center=%s'%(tomo_centers[i]))\n",
        "legend()"
      ],
      "execution_count": 42,
      "outputs": [
        {
          "output_type": "execute_result",
          "data": {
            "text/plain": [
              "<matplotlib.legend.Legend at 0x7f9c8a893908>"
            ]
          },
          "metadata": {
            "tags": []
          },
          "execution_count": 42
        },
        {
          "output_type": "display_data",
          "data": {
            "image/png": "[encoded data removed]",
            "text/plain": [
              "<Figure size 576x432 with 1 Axes>"
            ]
          },
          "metadata": {
            "tags": [],
            "needs_background": "light"
          }
        }
      ]
    },
    {
      "cell_type": "code",
      "metadata": {
        "id": "hc_KbuRHGjRj",
        "colab_type": "code",
        "colab": {}
      },
      "source": [
        ""
      ],
      "execution_count": null,
      "outputs": []
    }
  ]
}