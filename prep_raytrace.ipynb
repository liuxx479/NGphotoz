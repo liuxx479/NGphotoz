{
  "nbformat": 4,
  "nbformat_minor": 0,
  "metadata": {
    "colab": {
      "name": "prep_raytrace.ipynb",
      "provenance": [],
      "authorship_tag": "ABX9TyMqaieRal6CDgZPLcKZL3VF",
      "include_colab_link": true
    },
    "kernelspec": {
      "name": "python3",
      "display_name": "Python 3"
    }
  },
  "cells": [
    {
      "cell_type": "markdown",
      "metadata": {
        "id": "view-in-github",
        "colab_type": "text"
      },
      "source": [
        "<a href=\"https://colab.research.google.com/github/liuxx479/NGphotoz/blob/master/prep_raytrace.ipynb\" target=\"_parent\"><img src=\"https://colab.research.google.com/assets/colab-badge.svg\" alt=\"Open In Colab\"/></a>"
      ]
    },
    {
      "cell_type": "code",
      "metadata": {
        "id": "7ztHtzY_SA_5"
      },
      "source": [
        "import numpy as np\n",
        "from matplotlib import pyplot as plt\n",
        "from pylab import *\n",
        "from scipy.stats import norm\n",
        "\n",
        "%matplotlib inline"
      ],
      "execution_count": 2,
      "outputs": []
    },
    {
      "cell_type": "code",
      "metadata": {
        "colab": {
          "base_uri": "https://localhost:8080/"
        },
        "id": "XOmK5a4TTABI",
        "outputId": "7d49aa7f-635b-42bb-d4aa-7ece84178dde"
      },
      "source": [
        "from google.colab import drive\n",
        "drive.mount('/content/drive')\n",
        "root = '/content/drive/My Drive/NGphotoz/'"
      ],
      "execution_count": 4,
      "outputs": [
        {
          "output_type": "stream",
          "text": [
            "Mounted at /content/drive\n"
          ],
          "name": "stdout"
        }
      ]
    },
    {
      "cell_type": "code",
      "metadata": {
        "id": "PBOHBQ2mSJBi"
      },
      "source": [
        "########### code from MMR\n",
        "\n",
        "class PhotoZ_core(object):\n",
        "    \"\"\"Defines p(zp | z) of the core distribution (i.e. no outliers)\n",
        "    \"\"\"\n",
        "\n",
        "    def __init__(self, zp_support, zbias, sigma_z):\n",
        "        self.zp_support = zp_support\n",
        "        self.zbias = zbias\n",
        "        self.sigma_z = sigma_z\n",
        "\n",
        "    def get_pdf_given(self, z):\n",
        "        assert np.isscalar(z)\n",
        "        rv = norm()\n",
        "        scale = self.sigma_z * (1. + z)\n",
        "        loc = z - self.zbias\n",
        "        return rv.pdf((self.zp_support - loc) / scale) / scale\n",
        "\n",
        "\n",
        "class PhotoZ_outlier(object):\n",
        "    \"\"\" Define a gaussian distributed\n",
        "    outlier population\n",
        "\n",
        "    \"\"\"\n",
        "    def __init__(self, zp_support, z_cat, sigma_cat):\n",
        "        self.z_cat = z_cat\n",
        "        self.sigma_cat = sigma_cat\n",
        "        self.zp_support = zp_support\n",
        "\n",
        "    def get_pdf_given(self, z):\n",
        "        assert np.isscalar(z)\n",
        "        rv = norm()\n",
        "        return rv.pdf((self.zp_support - self.z_cat) / self.sigma_cat) / self.sigma_cat\n",
        "\n",
        "\n",
        "class PhotoZ_outlier_position(object):\n",
        "    \"\"\" Define the position and fraction of\n",
        "    the outlier populations for both the\n",
        "    Lyman-Alpha and Balmer Breaks\n",
        "    \"\"\"\n",
        "    def __init__(self, F_cat, delta_z_cat, z_cat_position):\n",
        "        assert np.isscalar(F_cat)\n",
        "        self.delta_z_cat = delta_z_cat\n",
        "        self.z_cat_position = z_cat_position\n",
        "        self.F_cat = F_cat\n",
        "\n",
        "    def get_weight_given(self, z):\n",
        "        assert np.isscalar(z)\n",
        "        if (z > self.z_cat_position - self.delta_z_cat) and (z < self.z_cat_position + self.delta_z_cat):\n",
        "            return self.F_cat\n",
        "        else:\n",
        "            return 0.\n",
        "\n",
        "\n",
        "class LymanBalmerConfusion(object):\n",
        "    \"\"\" We fix here the position of the\n",
        "        Lyman-Balmer Confusion (maybe we need to adjust this)\n",
        "        But this should be ok for now\n",
        "    \"\"\"\n",
        "    def __init__(self, zp_support):\n",
        "        self.outlier_pdf = PhotoZ_outlier(zp_support, z_cat=3.75, sigma_cat=0.25)\n",
        "\n",
        "    def get_pdf_given(self, z):\n",
        "        # Note this pdf is normalized to F_cat or zero!!!\n",
        "        assert np.isscalar(z)\n",
        "        outlier_pdf = self.outlier_pdf.get_pdf_given(z)\n",
        "        return outlier_pdf\n",
        "\n",
        "\n",
        "class LymanAlphaBalmerConfusion(object):\n",
        "    \"\"\" We fix here the position of the\n",
        "        LymanAlpha - Balmer Confusion (maybe we need to adjust this)\n",
        "    \"\"\"\n",
        "    def __init__(self, zp_support):\n",
        "        self.outlier_pdf = PhotoZ_outlier(zp_support, z_cat=0.5, sigma_cat=0.25)\n",
        "\n",
        "    def get_pdf_given(self, z):\n",
        "        # Note this pdf is normalized to F_cat or zero!!!\n",
        "        assert np.isscalar(z)\n",
        "        outlier_pdf = self.outlier_pdf.get_pdf_given(z)\n",
        "        return outlier_pdf\n",
        "\n",
        "\n",
        "class CoreAndOutlier(object):\n",
        "    \"\"\"\n",
        "    Defines the core and outlier population\n",
        "\n",
        "    \"\"\"\n",
        "    def __init__(self, zp_support, zbias, sigma_z, F_cat_lyman_balmer, F_cat_lyman_alpha_balmer):\n",
        "        if sigma_z < 0.01:\n",
        "            raise ValueError(\"Choosing a `close to delta' function as the conditional leads to numerical problems on a fixed grid!\")\n",
        "        self.zp_support = zp_support\n",
        "        self.core = PhotoZ_core(zp_support, zbias, sigma_z)\n",
        "\n",
        "        self.pos_lyman_balmer = PhotoZ_outlier_position(F_cat_lyman_balmer,\n",
        "                                                        delta_z_cat=0.25, z_cat_position=0.25)\n",
        "        self.lyman_balmer = LymanBalmerConfusion(zp_support)\n",
        "\n",
        "        self.pos_lyman_alpha_balmer = PhotoZ_outlier_position(F_cat_lyman_alpha_balmer,\n",
        "                                                              delta_z_cat=0.25, z_cat_position=3.)\n",
        "        self.lyman_alpha_balmer = LymanAlphaBalmerConfusion(zp_support)\n",
        "\n",
        "    def get_pdf_given(self, z):\n",
        "        assert np.isscalar(z)\n",
        "        weight_lyman_balmer = self.pos_lyman_balmer.get_weight_given(z)\n",
        "        weight_lyman_alpha_balmer = self.pos_lyman_alpha_balmer.get_weight_given(z)\n",
        "        weight_core = 1.0 - weight_lyman_balmer - weight_lyman_alpha_balmer\n",
        "        # print(weight_core)\n",
        "        core_pdf = self.core.get_pdf_given(z)\n",
        "        core_pdf = core_pdf / np.trapz(core_pdf, self.zp_support)\n",
        "\n",
        "        lyman_balmer_outliers = self.lyman_balmer.get_pdf_given(z)\n",
        "        lyman_balmer_outliers = lyman_balmer_outliers / np.trapz(lyman_balmer_outliers, self.zp_support)\n",
        "\n",
        "        lyman_alpha_balmer_outliers = self.lyman_alpha_balmer.get_pdf_given(z)\n",
        "        lyman_alpha_balmer_outliers = lyman_alpha_balmer_outliers / np.trapz(lyman_alpha_balmer_outliers,\n",
        "                                                                             self.zp_support)\n",
        "\n",
        "        cond_pdf = weight_core * core_pdf + weight_lyman_balmer * lyman_balmer_outliers + weight_lyman_alpha_balmer * lyman_alpha_balmer_outliers\n",
        "        return cond_pdf\n",
        "\n",
        "\n",
        "class SmailZ(object):\n",
        "    \"\"\" Define the True photometric redshift distribution\n",
        "    that follows a Smail Type distribution\n",
        "    \"\"\"\n",
        "    def __init__(self, z_support, z0, gamma, alpha):\n",
        "        pdf = z_support ** alpha * np.exp(-(z_support / z0) ** (gamma))\n",
        "        self.z_support = z_support\n",
        "        self.pdf = pdf / np.trapz(pdf, z_support)\n",
        "\n",
        "    def get_pdf(self):\n",
        "        return self.pdf\n",
        "\n",
        "    def get_pdf_convoled(self, filter_list):\n",
        "        output_tomo_list = []\n",
        "        for el in filter_list:\n",
        "            output_tomo_list.append(el * self.pdf)\n",
        "        output_tomo_list = np.array(output_tomo_list).T\n",
        "        output_tomo_list = np.column_stack((self.z_support, output_tomo_list))\n",
        "        return output_tomo_list\n",
        "\n",
        "\n",
        "class PhotozModel(object):\n",
        "    \"\"\"Convolve the joint distribution p(z_s, z_p) with\n",
        "    a set of filter functions (e.g. gaussian or tophat)\n",
        "\n",
        "    The class function get_pdf produces an array of tomographic\n",
        "    bins\n",
        "\n",
        "    \"\"\"\n",
        "    def __init__(self, pdf_z, pdf_zphot_given_z, filters):\n",
        "        self.pdf_zphot_given_z = pdf_zphot_given_z\n",
        "        self.pdf_z = pdf_z\n",
        "        self.filter_list = filters\n",
        "\n",
        "    def normalize(self, pz):\n",
        "        for i in range(pz.shape[1]):\n",
        "            pz[:, i] = pz[:, i]/np.trapz(pz[:, i], self.pdf_zphot_given_z.zp_support)\n",
        "\n",
        "        return pz\n",
        "\n",
        "    def get_pdf(self):\n",
        "        tomo_collect = []\n",
        "        for el in self.filter_list:\n",
        "            tomo_pdf = self.get_pdf_tomo(el)\n",
        "\n",
        "            tomo_collect.append(tomo_pdf)\n",
        "\n",
        "        tomo_collect = np.array(tomo_collect).T\n",
        "        tomo_collect = self.normalize(tomo_collect)\n",
        "        return tomo_collect\n",
        "\n",
        "    def get_pdf_tomo(self, filter):\n",
        "        z_support = self.pdf_z.z_support\n",
        "        zp_support = self.pdf_zphot_given_z.zp_support\n",
        "        z_pdf = self.pdf_z.get_pdf()\n",
        "        pdf_joint = np.zeros((len(zp_support), len(z_support)))\n",
        "        for i in range(len(z_support)):\n",
        "            pdf_joint[:, i] = self.pdf_zphot_given_z.get_pdf_given(z_support[i]) * z_pdf[i] * filter[i]\n",
        "\n",
        "        pdf_zp = np.zeros((len(zp_support),))\n",
        "        for i in range(len(zp_support)):\n",
        "            pdf_zp[i] = np.trapz(pdf_joint[i, :], z_support)\n",
        "\n",
        "        return pdf_zp"
      ],
      "execution_count": 3,
      "outputs": []
    },
    {
      "cell_type": "code",
      "metadata": {
        "colab": {
          "base_uri": "https://localhost:8080/"
        },
        "id": "dPaWmNBUSeW-",
        "outputId": "123198c6-6ffd-4f8a-a616-627520e42dbc"
      },
      "source": [
        "######## JL test Joachim's Pz against LSST SB Pz\n",
        "\n",
        "######### LSST SB Pz\n",
        "Mlim = 25.3 ## gold sample\n",
        "z0 = 0.0417*Mlim-0.744\n",
        "Pz = lambda z: 0.5/z0**3 * z**2 * exp(-z/z0)\n",
        "zarr=np.linspace(0,4, 100)\n",
        "print (z0)\n",
        "\n",
        "######## Joachim's Pz\n",
        "Pz_JH = np.array([np.loadtxt(root+'pz/zdist_sources_bin%i.txt'%(i)) for i in range(5)])\n",
        "print (Pz_JH.shape)"
      ],
      "execution_count": 8,
      "outputs": [
        {
          "output_type": "stream",
          "text": [
            "0.31101\n",
            "(5, 300, 2)\n"
          ],
          "name": "stdout"
        }
      ]
    },
    {
      "cell_type": "code",
      "metadata": {
        "colab": {
          "base_uri": "https://localhost:8080/",
          "height": 279
        },
        "id": "8YEfSpd_TquG",
        "outputId": "cccadd4f-a59e-4f98-cf3d-208bb8c6fcc9"
      },
      "source": [
        "### plot\n",
        "zarr_JH = Pz_JH[0,:,0]\n",
        "plot(zarr, Pz(zarr), label='LSST gold sample Pz')\n",
        "plot(zarr_JH, sum(Pz_JH[:,:,1], axis=0)/5, label='SLICS current Pz')\n",
        "\n",
        "for i in range(5):\n",
        "  plot(zarr_JH,Pz_JH[i,:,1]/5, '--',label='SLICS bin %i'%(i))\n",
        "xlabel('z')\n",
        "ylabel('Pz')\n",
        "legend()\n",
        "show()"
      ],
      "execution_count": 20,
      "outputs": [
        {
          "output_type": "display_data",
          "data": {
            "image/png": "[encoded data removed]",
            "text/plain": [
              "<Figure size 432x288 with 1 Axes>"
            ]
          },
          "metadata": {
            "tags": [],
            "needs_background": "light"
          }
        }
      ]
    },
    {
      "cell_type": "code",
      "metadata": {
        "colab": {
          "base_uri": "https://localhost:8080/"
        },
        "id": "hdgdNsp1Ts3_",
        "outputId": "4bac7a64-affd-46e7-8d68-6683c0e937ab"
      },
      "source": [
        "Pz_JH[:,:,0]"
      ],
      "execution_count": 9,
      "outputs": [
        {
          "output_type": "execute_result",
          "data": {
            "text/plain": [
              "array([[0.01      , 0.02163333, 0.03326666, ..., 3.465099  , 3.476732  ,\n",
              "        3.488365  ],\n",
              "       [0.01      , 0.02163333, 0.03326666, ..., 3.465099  , 3.476732  ,\n",
              "        3.488365  ],\n",
              "       [0.01      , 0.02163333, 0.03326666, ..., 3.465099  , 3.476732  ,\n",
              "        3.488365  ],\n",
              "       [0.01      , 0.02163333, 0.03326666, ..., 3.465099  , 3.476732  ,\n",
              "        3.488365  ],\n",
              "       [0.01      , 0.02163333, 0.03326666, ..., 3.465099  , 3.476732  ,\n",
              "        3.488365  ]])"
            ]
          },
          "metadata": {
            "tags": []
          },
          "execution_count": 9
        }
      ]
    },
    {
      "cell_type": "code",
      "metadata": {
        "id": "y_0XQVNHT9lT"
      },
      "source": [
        ""
      ],
      "execution_count": null,
      "outputs": []
    }
  ]
}