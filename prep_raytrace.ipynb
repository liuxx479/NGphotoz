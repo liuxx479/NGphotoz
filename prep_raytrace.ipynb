{
  "nbformat": 4,
  "nbformat_minor": 0,
  "metadata": {
    "colab": {
      "name": "prep_raytrace.ipynb",
      "provenance": [],
      "authorship_tag": "ABX9TyOaZnU+JjMO9gSD9pb1RbmE",
      "include_colab_link": true
    },
    "kernelspec": {
      "name": "python3",
      "display_name": "Python 3"
    }
  },
  "cells": [
    {
      "cell_type": "markdown",
      "metadata": {
        "id": "view-in-github",
        "colab_type": "text"
      },
      "source": [
        "<a href=\"https://colab.research.google.com/github/liuxx479/NGphotoz/blob/master/prep_raytrace.ipynb\" target=\"_parent\"><img src=\"https://colab.research.google.com/assets/colab-badge.svg\" alt=\"Open In Colab\"/></a>"
      ]
    },
    {
      "cell_type": "code",
      "metadata": {
        "id": "7ztHtzY_SA_5"
      },
      "source": [
        "import numpy as np\n",
        "from matplotlib import pyplot as plt\n",
        "from pylab import *\n",
        "from scipy.stats import norm\n",
        "from scipy.stats import uniform\n",
        "%matplotlib inline"
      ],
      "execution_count": 96,
      "outputs": []
    },
    {
      "cell_type": "code",
      "metadata": {
        "colab": {
          "base_uri": "https://localhost:8080/"
        },
        "id": "XOmK5a4TTABI",
        "outputId": "6b789889-d8ba-422f-fd2e-bbf475a396b0"
      },
      "source": [
        "from google.colab import drive\n",
        "drive.mount('/content/drive')\n",
        "root = '/content/drive/My Drive/NGphotoz/'"
      ],
      "execution_count": 2,
      "outputs": [
        {
          "output_type": "stream",
          "text": [
            "Mounted at /content/drive\n"
          ],
          "name": "stdout"
        }
      ]
    },
    {
      "cell_type": "code",
      "metadata": {
        "id": "PBOHBQ2mSJBi"
      },
      "source": [
        "########### code from MMR\n",
        "\n",
        "class PhotoZ_core(object):\n",
        "    \"\"\"Defines p(zp | z) of the core distribution (i.e. no outliers)\n",
        "    \"\"\"\n",
        "\n",
        "    def __init__(self, zp_support, zbias, sigma_z):\n",
        "        self.zp_support = zp_support\n",
        "        self.zbias = zbias\n",
        "        self.sigma_z = sigma_z\n",
        "\n",
        "    def get_pdf_given(self, z):\n",
        "        assert np.isscalar(z)\n",
        "        rv = norm()\n",
        "        scale = self.sigma_z * (1. + z)\n",
        "        loc = z - self.zbias\n",
        "        return rv.pdf((self.zp_support - loc) / scale) / scale\n",
        "\n",
        "\n",
        "class PhotoZ_outlier(object):\n",
        "    \"\"\" Define a gaussian distributed\n",
        "    outlier population\n",
        "\n",
        "    \"\"\"\n",
        "    def __init__(self, zp_support, z_cat, sigma_cat):\n",
        "        self.z_cat = z_cat\n",
        "        self.sigma_cat = sigma_cat\n",
        "        self.zp_support = zp_support\n",
        "\n",
        "    def get_pdf_given(self, z):\n",
        "        assert np.isscalar(z)\n",
        "        rv = norm()\n",
        "        return rv.pdf((self.zp_support - self.z_cat) / self.sigma_cat) / self.sigma_cat\n",
        "\n",
        "\n",
        "class PhotoZ_outlier_position(object):\n",
        "    \"\"\" Define the position and fraction of\n",
        "    the outlier populations for both the\n",
        "    Lyman-Alpha and Balmer Breaks\n",
        "    \"\"\"\n",
        "    def __init__(self, F_cat, delta_z_cat, z_cat_position):\n",
        "        assert np.isscalar(F_cat)\n",
        "        self.delta_z_cat = delta_z_cat\n",
        "        self.z_cat_position = z_cat_position\n",
        "        self.F_cat = F_cat\n",
        "\n",
        "    def get_weight_given(self, z):\n",
        "        assert np.isscalar(z)\n",
        "        if (z > self.z_cat_position - self.delta_z_cat) and (z < self.z_cat_position + self.delta_z_cat):\n",
        "            return self.F_cat\n",
        "        else:\n",
        "            return 0.\n",
        "\n",
        "\n",
        "class LymanBalmerConfusion(object):\n",
        "    \"\"\" We fix here the position of the\n",
        "        Lyman-Balmer Confusion (maybe we need to adjust this)\n",
        "        But this should be ok for now\n",
        "    \"\"\"\n",
        "    def __init__(self, zp_support):\n",
        "        self.outlier_pdf = PhotoZ_outlier(zp_support, z_cat=3.75, sigma_cat=0.25)\n",
        "\n",
        "    def get_pdf_given(self, z):\n",
        "        # Note this pdf is normalized to F_cat or zero!!!\n",
        "        assert np.isscalar(z)\n",
        "        outlier_pdf = self.outlier_pdf.get_pdf_given(z)\n",
        "        return outlier_pdf\n",
        "\n",
        "\n",
        "class LymanAlphaBalmerConfusion(object):\n",
        "    \"\"\" We fix here the position of the\n",
        "        LymanAlpha - Balmer Confusion (maybe we need to adjust this)\n",
        "    \"\"\"\n",
        "    def __init__(self, zp_support):\n",
        "        self.outlier_pdf = PhotoZ_outlier(zp_support, z_cat=0.5, sigma_cat=0.25)\n",
        "\n",
        "    def get_pdf_given(self, z):\n",
        "        # Note this pdf is normalized to F_cat or zero!!!\n",
        "        assert np.isscalar(z)\n",
        "        outlier_pdf = self.outlier_pdf.get_pdf_given(z)\n",
        "        return outlier_pdf\n",
        "\n",
        "\n",
        "class CoreAndOutlier(object):\n",
        "    \"\"\"\n",
        "    Defines the core and outlier population\n",
        "\n",
        "    \"\"\"\n",
        "    def __init__(self, zp_support, zbias, sigma_z, F_cat_lyman_balmer, F_cat_lyman_alpha_balmer):\n",
        "        if sigma_z < 0.01:\n",
        "            raise ValueError(\"Choosing a `close to delta' function as the conditional leads to numerical problems on a fixed grid!\")\n",
        "        self.zp_support = zp_support\n",
        "        self.core = PhotoZ_core(zp_support, zbias, sigma_z)\n",
        "\n",
        "        self.pos_lyman_balmer = PhotoZ_outlier_position(F_cat_lyman_balmer,\n",
        "                                                        delta_z_cat=0.25, z_cat_position=0.25)\n",
        "        self.lyman_balmer = LymanBalmerConfusion(zp_support)\n",
        "\n",
        "        self.pos_lyman_alpha_balmer = PhotoZ_outlier_position(F_cat_lyman_alpha_balmer,\n",
        "                                                              delta_z_cat=0.25, z_cat_position=3.)\n",
        "        self.lyman_alpha_balmer = LymanAlphaBalmerConfusion(zp_support)\n",
        "\n",
        "    def get_pdf_given(self, z):\n",
        "        assert np.isscalar(z)\n",
        "        weight_lyman_balmer = self.pos_lyman_balmer.get_weight_given(z)\n",
        "        weight_lyman_alpha_balmer = self.pos_lyman_alpha_balmer.get_weight_given(z)\n",
        "        weight_core = 1.0 - weight_lyman_balmer - weight_lyman_alpha_balmer\n",
        "        # print(weight_core)\n",
        "        core_pdf = self.core.get_pdf_given(z)\n",
        "        core_pdf = core_pdf / np.trapz(core_pdf, self.zp_support)\n",
        "\n",
        "        lyman_balmer_outliers = self.lyman_balmer.get_pdf_given(z)\n",
        "        lyman_balmer_outliers = lyman_balmer_outliers / np.trapz(lyman_balmer_outliers, self.zp_support)\n",
        "\n",
        "        lyman_alpha_balmer_outliers = self.lyman_alpha_balmer.get_pdf_given(z)\n",
        "        lyman_alpha_balmer_outliers = lyman_alpha_balmer_outliers / np.trapz(lyman_alpha_balmer_outliers,\n",
        "                                                                             self.zp_support)\n",
        "\n",
        "        cond_pdf = weight_core * core_pdf + weight_lyman_balmer * lyman_balmer_outliers + weight_lyman_alpha_balmer * lyman_alpha_balmer_outliers\n",
        "        return cond_pdf\n",
        "\n",
        "\n",
        "class SmailZ(object):\n",
        "    \"\"\" Define the True photometric redshift distribution\n",
        "    that follows a Smail Type distribution\n",
        "    \"\"\"\n",
        "    def __init__(self, z_support, z0, gamma, alpha):\n",
        "        pdf = z_support ** alpha * np.exp(-(z_support / z0) ** (gamma))\n",
        "        self.z_support = z_support\n",
        "        self.pdf = pdf / np.trapz(pdf, z_support)\n",
        "\n",
        "    def get_pdf(self):\n",
        "        return self.pdf\n",
        "\n",
        "    def get_pdf_convoled(self, filter_list):\n",
        "        output_tomo_list = []\n",
        "        for el in filter_list:\n",
        "            output_tomo_list.append(el * self.pdf)\n",
        "        output_tomo_list = np.array(output_tomo_list).T\n",
        "        output_tomo_list = np.column_stack((self.z_support, output_tomo_list))\n",
        "        return output_tomo_list\n",
        "\n",
        "\n",
        "class PhotozModel(object):\n",
        "    \"\"\"Convolve the joint distribution p(z_s, z_p) with\n",
        "    a set of filter functions (e.g. gaussian or tophat)\n",
        "\n",
        "    The class function get_pdf produces an array of tomographic\n",
        "    bins\n",
        "\n",
        "    \"\"\"\n",
        "    def __init__(self, pdf_z, pdf_zphot_given_z, filters):\n",
        "        self.pdf_zphot_given_z = pdf_zphot_given_z\n",
        "        self.pdf_z = pdf_z\n",
        "        self.filter_list = filters\n",
        "\n",
        "    def normalize(self, pz):\n",
        "        for i in range(pz.shape[1]):\n",
        "            pz[:, i] = pz[:, i]/np.trapz(pz[:, i], self.pdf_zphot_given_z.zp_support)\n",
        "\n",
        "        return pz\n",
        "\n",
        "    def get_pdf(self):\n",
        "        tomo_collect = []\n",
        "        for el in self.filter_list:\n",
        "            tomo_pdf = self.get_pdf_tomo(el)\n",
        "\n",
        "            tomo_collect.append(tomo_pdf)\n",
        "\n",
        "        tomo_collect = np.array(tomo_collect).T\n",
        "        tomo_collect = self.normalize(tomo_collect)\n",
        "        return tomo_collect\n",
        "\n",
        "    def get_pdf_tomo(self, filter):\n",
        "        z_support = self.pdf_z.z_support\n",
        "        zp_support = self.pdf_zphot_given_z.zp_support\n",
        "        z_pdf = self.pdf_z.get_pdf()\n",
        "        pdf_joint = np.zeros((len(zp_support), len(z_support)))\n",
        "        for i in range(len(z_support)):\n",
        "            pdf_joint[:, i] = self.pdf_zphot_given_z.get_pdf_given(z_support[i]) * z_pdf[i] * filter[i]\n",
        "\n",
        "        pdf_zp = np.zeros((len(zp_support),))\n",
        "        for i in range(len(zp_support)):\n",
        "            pdf_zp[i] = np.trapz(pdf_joint[i, :], z_support)\n",
        "\n",
        "        return pdf_zp"
      ],
      "execution_count": 3,
      "outputs": []
    },
    {
      "cell_type": "code",
      "metadata": {
        "colab": {
          "base_uri": "https://localhost:8080/"
        },
        "id": "dPaWmNBUSeW-",
        "outputId": "ded8826d-f945-473f-947e-c64af40515ac"
      },
      "source": [
        "######## JL test Joachim's Pz against LSST SB Pz\n",
        "\n",
        "def Pz_norm(zp_support, pz):\n",
        "  return pz/np.trapz(pz, zp_support)\n",
        "\n",
        "def Pz_norm_tomo(zp_support, pz):\n",
        "  for i in range(pz.shape[1]):\n",
        "      pz[:, i] = pz[:, i]/np.trapz(pz[:, i], zp_support)\n",
        "  return pz\n",
        "\n",
        "######### LSST SB Pz\n",
        "Mlim = 25.3 ## gold sample\n",
        "z0_SB = 0.0417*Mlim-0.744\n",
        "Pz_SB = lambda z: Pz_norm(z, 0.5/z0_SB**3 * z**2 * exp(-z/z0_SB))\n",
        "print ('SB',z0_SB, 1)\n",
        "\n",
        "####### LSST SRD Y10 numbers\n",
        "z0_SRD, alpha_SRD = 0.11, 0.68\n",
        "Pz_SRD = lambda z: Pz_norm(z, z**2 * exp(-(z/z0_SRD)**alpha_SRD))\n",
        "print ('SRD',z0_SRD, alpha_SRD)\n",
        "\n",
        "zarr=np.linspace(0,4, 501)\n",
        "\n",
        "######## Joachim's Pz\n",
        "Pz_JH = np.array([np.loadtxt(root+'pz/zdist_sources_bin%i.txt'%(i)) for i in range(5)])\n",
        "zarr_JH = Pz_JH[0,:,0]\n",
        "print (Pz_JH.shape)\n",
        "Pz_JH_all = Pz_norm(zarr_JH, sum(Pz_JH[:,:,1], axis=0))"
      ],
      "execution_count": 123,
      "outputs": [
        {
          "output_type": "stream",
          "text": [
            "SB 0.31101 1\n",
            "SRD 0.11 0.68\n",
            "(5, 300, 2)\n"
          ],
          "name": "stdout"
        }
      ]
    },
    {
      "cell_type": "code",
      "metadata": {
        "colab": {
          "base_uri": "https://localhost:8080/",
          "height": 279
        },
        "id": "8YEfSpd_TquG",
        "outputId": "a175ffcc-3583-472d-a492-287cc52aff96"
      },
      "source": [
        "### plot\n",
        "plot(zarr, Pz_SB(zarr), lw=2, label='LSST gold (SB eq3.8)')\n",
        "\n",
        "plot(zarr, Pz_SRD(zarr), lw=2, label='LSST gold (SRD2018 Y10 p53)')\n",
        "\n",
        "plot(zarr_JH, Pz_JH_all, '--', label='SLICS full')\n",
        "for i in range(5):\n",
        "  ipz = Pz_norm(zarr_JH, Pz_JH[i,:,1])\n",
        "  plot(zarr_JH, ipz/5, 'g--', lw='0.5')#label='SLICS bin %i'%(i))\n",
        "xlabel('z')\n",
        "ylabel('Pz')\n",
        "legend()\n",
        "show()"
      ],
      "execution_count": 124,
      "outputs": [
        {
          "output_type": "display_data",
          "data": {
            "image/png": "[encoded data removed]",
            "text/plain": [
              "<Figure size 432x288 with 1 Axes>"
            ]
          },
          "metadata": {
            "tags": [],
            "needs_background": "light"
          }
        }
      ]
    },
    {
      "cell_type": "code",
      "metadata": {
        "id": "y_0XQVNHT9lT"
      },
      "source": [
        "######### note\n",
        "### pdf = z_support ** alpha * np.exp(-(z_support / z0) ** (gamma))\n",
        "### LSST pdf = 1/(2z0)(z/z0)**2 exp(-z/z0), so alpha=2, gamma=1... note the gamma and alpha is reversed in MMR's definition\n",
        "### pdf_z = SmailZ(z_support, z0=0.31101, gamma=1, alpha=2)\n",
        "\n",
        "####### generate a Smail pdf class\n",
        "pdf_z = SmailZ(zarr, z0=z0_SRD, gamma=alpha_SRD, alpha=2)"
      ],
      "execution_count": 125,
      "outputs": []
    },
    {
      "cell_type": "code",
      "metadata": {
        "colab": {
          "base_uri": "https://localhost:8080/",
          "height": 295
        },
        "id": "bwFIyyweOL5C",
        "outputId": "d3b85b05-1072-455c-9d2f-2e0f0452d588"
      },
      "source": [
        "############ equal number count bins\n",
        "Nfrac = array([np.trapz(pdf_z.get_pdf()[:i], zarr[:i]) for i in range(len(zarr))])\n",
        "plot(zarr, Nfrac)\n",
        "for i in range(5):\n",
        "  plot(zarr, ones(len(zarr))*.2*i)\n",
        "xlabel('z')\n",
        "ylabel('% galaxies betwen [0,z]')\n",
        "title('ABORT! in case we want to use equal number counts')\n",
        "show()"
      ],
      "execution_count": 126,
      "outputs": [
        {
          "output_type": "display_data",
          "data": {
            "image/png": "[encoded data removed]",
            "text/plain": [
              "<Figure size 432x288 with 1 Axes>"
            ]
          },
          "metadata": {
            "tags": [],
            "needs_background": "light"
          }
        }
      ]
    },
    {
      "cell_type": "code",
      "metadata": {
        "id": "F9qzxIlclSUt"
      },
      "source": [
        "############# equally-spaced bins\n",
        "tomo_centers=np.arange(0.5, 3, 0.5)\n",
        "tomo_widths=np.ones(5)*0.5\n",
        "tomo_bins = np.array([tomo_centers, tomo_widths]).T\n",
        "# tomo_bins = np.array([[0.5, 0.5],\n",
        "#                      [1.0, 0.5],\n",
        "#                      [1.5, 0.5],\n",
        "#                      [2.0, 0.5],\n",
        "#                      [2.5, 0.5]])\n",
        "# tomo_list = [norm.pdf(zarr, loc=x[0], scale=x[1]) for x in tomo_bins]\n",
        "tomo_list = [uniform.pdf(zarr, loc=x[0]-x[1]/2, scale=x[1]) for x in tomo_bins]\n",
        "\n",
        "def norm_tomo(ipdf):\n",
        "  Ncounts = []\n",
        "  for i in range(5):\n",
        "    z0, z1=tomo_centers[i]-0.25, tomo_centers[i]+0.25\n",
        "    idx= where ((zarr<=z1) &(zarr>=z0))\n",
        "    Ncounts.append(np.trapz(pdf_z.get_pdf()[idx], zarr[idx]))\n",
        "  return Ncounts\n",
        "  # print (Ncounts)\n",
        "Ncounts = norm_tomo(pdf_z.get_pdf())"
      ],
      "execution_count": 127,
      "outputs": []
    },
    {
      "cell_type": "code",
      "metadata": {
        "id": "b2RxVzC6mEn-"
      },
      "source": [
        "########## Bias parameters:\n",
        "# Change the true LSST pz by:\n",
        "# (1) zbias = 0.0003, 0.0007, 0.0015\n",
        "# (2) sigma_z = 0.02, 0.04, 0.06\n",
        "# (3) outlier fraction = 5%, 10%, 15%\n",
        "########## Fiducial values:\n",
        "# zbias=0.0007, sigma_z=0.02, outlier fraction 10%\n",
        "# Other fixed parameter:\n",
        "# F_cat_lyman_balmer=0.045, F_cat_lyman_alpha_balmer=0.045\n",
        "\n",
        "# coreandoutlier = CoreAndOutlier(zarr, zbias=0.0, sigma_z=0.02, \n",
        "#                                 F_cat_lyman_balmer=0.045,\n",
        "#                                 F_cat_lyman_alpha_balmer=0.045)\n",
        "\n",
        "def biased_pdf(pdf_z, zbias=0, sigma_z=0.02, out1=0.045, out2=0.045):\n",
        "  coreandoutlier = CoreAndOutlier(zarr, zbias=zbias, sigma_z=sigma_z, \n",
        "                                F_cat_lyman_balmer=out1,\n",
        "                                F_cat_lyman_alpha_balmer=out2)\n",
        "  photoz_model = PhotozModel(pdf_z, coreandoutlier, tomo_list)\n",
        "  pdf_z_biased = photoz_model.get_pdf()\n",
        "  return pdf_z_biased\n",
        "\n",
        "pdf_zp=biased_pdf(pdf_z, zbias=0, sigma_z=0.01, out1=0, out2=0)\n",
        "\n",
        "###### to do: check outcome of tomo challenge, decide on binning"
      ],
      "execution_count": 131,
      "outputs": []
    },
    {
      "cell_type": "code",
      "metadata": {
        "id": "0r21la7DU0LF",
        "outputId": "8af792f3-1508-46d4-d50b-66d8d2c7b894",
        "colab": {
          "base_uri": "https://localhost:8080/",
          "height": 295
        }
      },
      "source": [
        "plot(zarr, pdf_z.get_pdf(),'r-', label='LSST SRD full Pz')\n",
        "for i in range(5):\n",
        "  plot(zarr, pdf_zp[:, i]*Ncounts[i], '-', lw=1)#, label='z_center=%s'%(tomo_centers[i]))\n",
        "legend()\n",
        "xlabel('z')\n",
        "ylabel('Pz')\n",
        "title('equal number bins')\n",
        "show()"
      ],
      "execution_count": 132,
      "outputs": [
        {
          "output_type": "display_data",
          "data": {
            "image/png": "[encoded data removed]",
            "text/plain": [
              "<Figure size 432x288 with 1 Axes>"
            ]
          },
          "metadata": {
            "tags": [],
            "needs_background": "light"
          }
        }
      ]
    },
    {
      "cell_type": "code",
      "metadata": {
        "id": "j6cjztInaXoO"
      },
      "source": [
        ""
      ],
      "execution_count": null,
      "outputs": []
    }
  ]
}