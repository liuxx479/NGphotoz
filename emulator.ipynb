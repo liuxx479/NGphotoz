{
 "cells": [
  {
   "cell_type": "code",
   "execution_count": 1,
   "id": "f495043b-4243-41e4-8457-3ea1bc23cdc8",
   "metadata": {},
   "outputs": [],
   "source": [
    "import numpy as np\n",
    "from matplotlib import pyplot as plt\n",
    "from pylab import *\n",
    "from scipy.stats import norm\n",
    "from scipy.stats import uniform\n",
    "from astropy.io import fits\n",
    "from astropy import units as u\n",
    "import os\n",
    "from IPython.display import Image\n",
    "%matplotlib inline"
   ]
  },
  {
   "cell_type": "code",
   "execution_count": 3,
   "id": "ee1f5d01-7a9e-4f28-b706-816b4a738116",
   "metadata": {},
   "outputs": [],
   "source": [
    "########### set the file path ###############\n",
    "root = '/global/u1/j/jialiu/NGphotoz/'\n",
    "dir_storage = root+'NGphotoz_scratch/'\n",
    "dir_cosmos = dir_storage+'Cosmo_maps/'\n",
    "dir_cov = dir_storage+'Cov_maps/'\n",
    "dir_bias = dir_storage+'Bias_maps/'"
   ]
  },
  {
   "cell_type": "code",
   "execution_count": 6,
   "id": "b10c768b-add6-462c-af1f-5d9dd8ca0372",
   "metadata": {},
   "outputs": [
    {
     "name": "stdout",
     "output_type": "stream",
     "text": [
      "['00_a', '00_f', '01_a', '01_f', '02_a', '02_f', '03_a', '03_f', '04_a', '04_f', '05_a', '05_f', '06_a', '06_f', '07_a', '07_f', '08_a', '08_f', '09_a', '09_f', '10_a', '10_f', '11_a', '11_f', '12_a', '12_f', '13_a', '13_f', '14_a', '14_f', '15_a', '15_f', '16_a', '16_f', '17_a', '17_f', '18_a', '18_f', '19_a', '19_f', '20_a', '20_f', '21_a', '21_f', '22_a', '22_f', '23_a', '23_f', '24_a', '24_f', 'fid_a', 'fid_f']\n"
     ]
    }
   ],
   "source": [
    "######### photo-z bias parameters\n",
    "zbias_arr = [0, 0.0003, 0.0007, 0.0015]\n",
    "sigmaz_arr = [0.01, 0.02, 0.04, 0.06]\n",
    "out_arr = [0, 0.05, 0.1, 0.15]\n",
    "theta_g_arr = [1,5,10]\n",
    "\n",
    "zarr=np.linspace(0,4, 501)\n",
    "delta_z=0.5\n",
    "tomo_centers=np.arange(0.5, 3, delta_z)\n",
    "\n",
    "cosmos = [ '%02d_%s'%(i, j) for i in range(25) for j in ['a','f']]\n",
    "cosmos += ['fid_a', 'fid_f']\n",
    "tomo_arr = range(1,6)\n",
    "cones_bias = arange(1,11)\n",
    "cones_cov = arange(74, 1100)\n",
    "cones_cosmo = arange(1,6)\n",
    "\n",
    "pz_lists = genfromtxt(root+'pz_list.txt', dtype='str')\n",
    "print (cosmos)"
   ]
  },
  {
   "cell_type": "code",
   "execution_count": 132,
   "id": "c965c82a-fe3f-43e7-bb2b-773e2ede3bf3",
   "metadata": {},
   "outputs": [],
   "source": [
    "### bias sample fname: biaspz_zbias0_simgaz0.06_outlier0.txt_tomo4_cone10_s10.npy\n",
    "### JH: The LOS number runs from 74 to 1100, with some missing LOS. You will have 954 in total. \n",
    "### JL: LOS 140 and 135 are missing, 198 tomo 3, 4 are missing\n",
    "\n",
    "def stats_gen_true (theta_g, tomo, cone):\n",
    "    ipz='pz_true.txt'\n",
    "    fn = dir_bias+'bias%s_tomo%i_cone%s_s%i.npy'%(ipz, tomo, cone, theta_g)\n",
    "    return np.load(fn)\n",
    "\n",
    "def stats_gen_bias (izbias, isz, iout, theta_g, tomo, cone):\n",
    "    ipz='pz_zbias%s_simgaz%s_outlier%s.txt'%(izbias, isz, iout)\n",
    "    fn = dir_bias+'bias%s_tomo%i_cone%s_s%i.npy'%(ipz, tomo, cone, theta_g)\n",
    "#     print (fn)\n",
    "    return np.load(fn)\n",
    "\n",
    "def stats_gen_cov (theta_g, tomo, cone): #### cone goes from 74 to 1099, missing some, total 953\n",
    "    fn = dir_cov+'cov_tomo%i_cone%s_s%i.npy'%(tomo, cone, theta_g)\n",
    "#     print (fn)\n",
    "    return np.load(fn)\n",
    "\n",
    "def stats_gen_cosmo (cosmo, theta_g, tomo, cone): \n",
    "    fn = dir_cosmos+'/%s_tomo%i_cone%s_s%i.npy'%(cosmo, tomo, cone, theta_g)\n",
    "#     print (fn)\n",
    "    return np.load(fn)\n",
    "  "
   ]
  },
  {
   "cell_type": "code",
   "execution_count": 133,
   "id": "7d5f9266-17a8-4d85-8a6d-a761666ae930",
   "metadata": {},
   "outputs": [
    {
     "name": "stdout",
     "output_type": "stream",
     "text": [
      "(5, 3, 51, 5, 11, 10)\n",
      "(3, 51, 5, 11, 10)\n"
     ]
    }
   ],
   "source": [
    "cosmo, theta_g, tomo, cone = cosmos[0], theta_g_arr[0], tomo_arr[0], cones_cosmo[0]\n",
    "stats_cosmo = np.array([[[[stats_gen_cosmo(cosmo, theta_g, tomo, cone)\n",
    "                 for tomo in tomo_arr] ## 5 tomo bins\n",
    "                 for cosmo in cosmos[1:]] ## 52 cosmos \n",
    "                 for theta_g in theta_g_arr] ## 3 theta_g\n",
    "                 for cone in cones_cosmo])\n",
    "\n",
    "print (stats_cosmo.shape)\n",
    "stats_cosmo = mean(stats_cosmo, axis=0)\n",
    "print (stats_cosmo.shape)"
   ]
  },
  {
   "cell_type": "code",
   "execution_count": null,
   "id": "1bc06a9a-3d40-42b3-9b0d-7fe911021548",
   "metadata": {},
   "outputs": [],
   "source": []
  }
 ],
 "metadata": {
  "kernelspec": {
   "display_name": "Python 3",
   "language": "python",
   "name": "python3"
  },
  "language_info": {
   "codemirror_mode": {
    "name": "ipython",
    "version": 3
   },
   "file_extension": ".py",
   "mimetype": "text/x-python",
   "name": "python",
   "nbconvert_exporter": "python",
   "pygments_lexer": "ipython3",
   "version": "3.7.4"
  }
 },
 "nbformat": 4,
 "nbformat_minor": 5
}
