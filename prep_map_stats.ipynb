{
  "nbformat": 4,
  "nbformat_minor": 0,
  "metadata": {
    "colab": {
      "name": "prep_mass_production.ipynb",
      "provenance": [],
      "authorship_tag": "ABX9TyNuJXqQkIDgS6/7DFuJ6bLq",
      "include_colab_link": true
    },
    "kernelspec": {
      "name": "python3",
      "display_name": "Python 3"
    }
  },
  "cells": [
    {
      "cell_type": "markdown",
      "metadata": {
        "id": "view-in-github",
        "colab_type": "text"
      },
      "source": [
        "<a href=\"https://colab.research.google.com/github/liuxx479/NGphotoz/blob/master/prep_mass_production.ipynb\" target=\"_parent\"><img src=\"https://colab.research.google.com/assets/colab-badge.svg\" alt=\"Open In Colab\"/></a>"
      ]
    },
    {
      "cell_type": "code",
      "metadata": {
        "id": "Ak9qWKy8pIbN"
      },
      "source": [
        "import numpy as np\n",
        "from matplotlib import pyplot as plt\n",
        "from pylab import *\n",
        "from scipy.stats import norm\n",
        "from scipy.stats import uniform\n",
        "%matplotlib inline"
      ],
      "execution_count": 1,
      "outputs": []
    },
    {
      "cell_type": "code",
      "metadata": {
        "id": "OLKpb6dHpOLY"
      },
      "source": [
        "######### goals of this notebook\n",
        "## 1) compute the nubmer density per redshift bin, using the fiducial photo-z (check if used a gaussian window or step functions)\n",
        "## 2) add noise as GRF to each redshift\n",
        "## 3) define the bin edges\n",
        "## 4) smooth the maps\n",
        "## 5) compute peaks, minima, PDF, MFs, moments\n",
        "## 6) turn this into a python code"
      ],
      "execution_count": 2,
      "outputs": []
    },
    {
      "cell_type": "code",
      "metadata": {
        "colab": {
          "base_uri": "https://localhost:8080/",
          "height": 279
        },
        "id": "pF66fYtqp7ar",
        "outputId": "a28c8a3d-c47f-4d0e-9f78-4d50a8f09af2"
      },
      "source": [
        "##### number density per redshift bins\n",
        "def Pz_norm(zp_support, pz):\n",
        "  return pz/np.trapz(pz, zp_support)\n",
        "\n",
        "def Pz_norm_tomo(zp_support, pz):\n",
        "  return array([Pz_norm(zp_support, ipz) for ipz in pz])\n",
        "\n",
        "zarr=np.linspace(0,4, 501)\n",
        "\n",
        "tomo_centers=np.arange(0.5, 3, 0.5)\n",
        "tomo_widths=np.ones(5)*0.5\n",
        "tomo_bins = np.array([tomo_centers, tomo_widths]).T\n",
        "\n",
        "z0_SRD, alpha_SRD = 0.11, 0.68\n",
        "Pz_SRD = lambda z: Pz_norm(z, z**2 * exp(-(z/z0_SRD)**alpha_SRD))\n",
        "\n",
        "plot(zarr, Pz_SRD(zarr), lw=2, label='LSST gold (SRD2018 Y10 p53)')\n",
        "xlabel('z')\n",
        "ylabel('Pz')\n",
        "legend()\n",
        "show()"
      ],
      "execution_count": 6,
      "outputs": [
        {
          "output_type": "display_data",
          "data": {
            "image/png": "[encoded data removed]",
            "text/plain": [
              "<Figure size 432x288 with 1 Axes>"
            ]
          },
          "metadata": {
            "tags": [],
            "needs_background": "light"
          }
        }
      ]
    },
    {
      "cell_type": "code",
      "metadata": {
        "id": "no8Frqmiqh83"
      },
      "source": [
        ""
      ],
      "execution_count": null,
      "outputs": []
    }
  ]
}